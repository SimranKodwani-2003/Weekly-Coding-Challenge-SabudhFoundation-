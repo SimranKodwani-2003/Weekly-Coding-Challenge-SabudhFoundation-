{
 "cells": [
  {
   "cell_type": "markdown",
   "id": "b7c3b9d6-5ba6-436a-abc4-8a890fe4342d",
   "metadata": {},
   "source": [
    "### Given an integer array nums, return all the triplets [nums[i], nums[j], nums[k]] such that \n",
    "i!= j, i != k, and j != k, and nums[i] + nums[j] + nums[k] == 0. <br>\n",
    "Notice that the solution set must not contain duplicate triplets."
   ]
  },
  {
   "cell_type": "markdown",
   "id": "546c562a-af0d-4b92-b3a4-57ffbd157e9d",
   "metadata": {},
   "source": [
    "\"\"\"\n",
    "## Understanding the Three Sum Problem\n",
    "\n",
    "### Problem Statement:\n",
    "Given an integer array `nums`, return all unique triplets `[nums[i], nums[j], nums[k]]` such that:\n",
    "- `i != j`, `i != k`, and `j != k`\n",
    "- `nums[i] + nums[j] + nums[k] == 0`\n",
    "\n",
    "### Approach:\n",
    "1. **Sorting the Array**\n",
    "   - Sorting helps in avoiding duplicate triplets.\n",
    "   - Addition is commutative, so sorting does not affect the solution validity.\n",
    "\n",
    "2. **Using a Three-Pointer Approach:**\n",
    "   - **First Pointer (i):** Iterates through the sorted array.\n",
    "   - **Two Pointers (left and right):**\n",
    "     - `left` starts from `i+1`, `right` starts from the last index.\n",
    "     - They help find pairs that sum up to `-nums[i]`.\n",
    "\n",
    "3. **Checking Sum Conditions:**\n",
    "   - If `nums[i] + nums[left] + nums[right] == 0`, store the triplet.\n",
    "   - If the sum is less than 0, move `left` right to increase the sum.\n",
    "   - If the sum is greater than 0, move `right` left to decrease the sum.\n",
    "   - Skip duplicates to ensure unique triplets.\n",
    "\"\"\""
   ]
  },
  {
   "cell_type": "code",
   "execution_count": 36,
   "id": "82911dde-e820-405a-b4d9-5bc390de2df9",
   "metadata": {},
   "outputs": [
    {
     "name": "stdout",
     "output_type": "stream",
     "text": [
      "[[0, 0, 0]]\n"
     ]
    }
   ],
   "source": [
    "def threesum(nums):\n",
    "    nums.sort()\n",
    "    res=[]\n",
    "    for i in range(len(nums)):\n",
    "        # FOR SKIPPING SAME INDEX\n",
    "        if i>0 and nums[i]==nums[i-1]:\n",
    "            continue\n",
    "        l=i+1\n",
    "        r=len(nums)-1\n",
    "        while l<r:\n",
    "            if nums[i]+nums[l]+nums[r]>0:\n",
    "                r=r-1\n",
    "            elif nums[i]+nums[l]+nums[r]<0:\n",
    "                l=l+1\n",
    "            else:\n",
    "                res.append([nums[i],nums[l],nums[r]])\n",
    "                l=l+1\n",
    "    \n",
    "                while l<r and nums[l]==nums[l-1] :\n",
    "                    l=l+1\n",
    "    return res\n",
    "    \n",
    "s=threesum([0,0,0]\n",
    ")\n",
    "print(s)"
   ]
  },
  {
   "cell_type": "raw",
   "id": "0314f519-45b1-4f56-b8b5-99b598abbeae",
   "metadata": {},
   "source": [
    "Problem 2: Given an array of positive and negative numbers, arrange them such that all negative integers appear before all the positive integers in the array without using any additional data structure like a hash table, arrays, etc. The order of appearance should be Maintained.\n",
    "\n",
    "Test case 1:\n",
    "Input: -12, 11, -13, -5, 6, -7, 5, -3, -6\n",
    "Output: -12 -13 -5 -7 -3 -6 11 6 5\n",
    "Test case 2:\n",
    "Input: -12, 11, 13, -5, 6, -7, 5, -3, 8\n",
    "Output: -12 -5 -7 -3 11 13 6 5 8\n"
   ]
  },
  {
   "cell_type": "code",
   "execution_count": 46,
   "id": "5ad280a1-64d3-4032-a1ba-1d8cfbdb3375",
   "metadata": {},
   "outputs": [
    {
     "data": {
      "text/plain": [
       "[-12, -5, -7, -3, 11, 13, 6, 5, 8]"
      ]
     },
     "execution_count": 46,
     "metadata": {},
     "output_type": "execute_result"
    }
   ],
   "source": [
    "def app(l):\n",
    "    n=[]\n",
    "    p=[]\n",
    "    for i in range(len(l)):\n",
    "        if l[i]<0:\n",
    "            n.append(l[i])\n",
    "        else:\n",
    "            p.append(l[i])\n",
    "    return n+p\n",
    "\n",
    "app([-12, 11, 13, -5, 6, -7, 5, -3, 8])\n",
    "\n",
    "##not satisfying the query as we are using list"
   ]
  },
  {
   "cell_type": "code",
   "execution_count": 50,
   "id": "8120b983-4e77-47f6-a57d-bebb2d99014a",
   "metadata": {},
   "outputs": [
    {
     "name": "stdout",
     "output_type": "stream",
     "text": [
      "[-12, -5, -7, -3, 6, 13, 5, 11, 8]\n"
     ]
    }
   ],
   "source": [
    "def app(l):\n",
    "    p=0\n",
    "    for i in range(len(l)):\n",
    "        if l[i]<0:\n",
    "            l[i], l[p]=l[p],l[i]\n",
    "            p+=1\n",
    "    return l\n",
    "\n",
    "print(app([-12, 11, 13, -5, 6, -7, 5, -3, 8])) "
   ]
  },
  {
   "cell_type": "raw",
   "id": "0348af81-16bc-43d5-9f22-38f4f8ac2b0f",
   "metadata": {},
   "source": [
    "Problem 3: Given an array of N integers and a number K, the task is to find the number of pairs of\n",
    "integers in the array whose sum is equal to K.\n",
    "Test Case 1:\n",
    "Input: arr[] = {1, 5, 7, -1}, sum = 6\n",
    "Output: 2\n",
    "Explanation: Pairs with sum 6 are (1, 5) and (7, -1)."
   ]
  },
  {
   "cell_type": "code",
   "execution_count": 17,
   "id": "078a1fc5-5fd1-491a-8bf4-20a497bb157f",
   "metadata": {},
   "outputs": [
    {
     "data": {
      "text/plain": [
       "3"
      ]
     },
     "execution_count": 17,
     "metadata": {},
     "output_type": "execute_result"
    }
   ],
   "source": [
    "def Arr_sum(N,given_sum):\n",
    "    count=0\n",
    "    c=[]\n",
    "    for i in range(len(N)):\n",
    "        sum=N[i]+N[i-1]\n",
    "        if sum==given_sum:\n",
    "            count+=1\n",
    "            c.append(sum)\n",
    "    return count\n",
    "N=[1, 5, 7, -1, 5]\n",
    "Arr_sum(N,6)\n"
   ]
  },
  {
   "cell_type": "raw",
   "id": "e0da042d-1fd6-4054-81e7-e9a01aeb66f5",
   "metadata": {},
   "source": [
    "Problem 4: Given an array of N integers where each value represents the number of chocolates in a\n",
    "packet. Each packet can have a variable number of chocolates. There are m students, the\n",
    "task is to distribute chocolate packets such that:\n",
    "a. Each student gets one packet.\n",
    "b. The difference between the number of chocolates in the packet with maximum\n",
    "chocolates and the packet with minimum chocolates given to the students is\n",
    "Minimum.\n",
    "Test Case 1\n",
    "Input: arr[] = {7, 3, 2, 4, 9, 12, 56}, m = 3\n",
    "Output: Minimum Difference is 2\n",
    "Explanation:\n",
    "We have seven packets of chocolates and we need to pick three packets for 3 students. If\n",
    "we pick 2, 3, and 4, we get the minimum difference between maximum and minimum\n",
    "packet sizes.\n",
    "Test Case 2\n",
    "Input: arr[] = {3, 4, 1, 9, 56, 7, 9, 12}, m = 5\n",
    "Output: Minimum Difference is 6"
   ]
  },
  {
   "cell_type": "code",
   "execution_count": 34,
   "id": "e9635e77-f301-475d-bc3b-507bbc1ccd62",
   "metadata": {},
   "outputs": [
    {
     "data": {
      "text/plain": [
       "6"
      ]
     },
     "execution_count": 34,
     "metadata": {},
     "output_type": "execute_result"
    }
   ],
   "source": [
    "def arr_diff(N,m):\n",
    "    if len(N)==0 or m==0:\n",
    "        return 0\n",
    "    if len(N)<m:\n",
    "        return -1\n",
    "    N.sort()\n",
    "    min_diff=float(\"inf\")\n",
    "    for i in range(len(N)-m+1):\n",
    "        diff=N[i+m-1]-N[i]\n",
    "        min_diff=min(min_diff,diff)\n",
    "    return min_diff\n",
    "    \n",
    "N=[3, 4, 1, 9, 56, 7, 9, 12]\n",
    "arr_diff(N,5)"
   ]
  },
  {
   "cell_type": "raw",
   "id": "c4d6f3d7-30fd-4902-b11e-1ec308885c0f",
   "metadata": {},
   "source": [
    "Problem 5: Seven different symbols represent Roman numerals with the following values:\n",
    "Symbol Value\n",
    "I 1\n",
    "V 5\n",
    "X 10\n",
    "L 50\n",
    "C 100\n",
    "D 500\n",
    "M 1000\n",
    "Roman numerals are formed by appending the conversions of decimal place values from highest to\n",
    "lowest. Converting a decimal place value into a Roman numeral has the following rules:\n",
    "● If the value does not start with 4 or 9, select the symbol of the maximal value that can\n",
    "be subtracted from the input, append that symbol to the result, subtract its value, and\n",
    "convert the remainder to a Roman numeral.\n",
    "● If the value starts with 4 or 9 use the subtractive form representing one symbol\n",
    "subtracted from the following symbol, for example, 4 is 1 (I) less than 5 (V): IV and 9\n",
    "is 1 (I) less than 10 (X): IX. Only the following subtractive forms are used: 4 (IV), 9\n",
    "(IX), 40 (XL), 90 (XC), 400 (CD) and 900 (CM).\n",
    "● Only powers of 10 (I, X, C, M) can be appended consecutively at most 3 times to\n",
    "represent multiples of 10. You cannot append 5 (V), 50 (L), or 500 (D) multiple times.\n",
    "If you need to append a symbol 4 times use the subtractive form"
   ]
  },
  {
   "cell_type": "raw",
   "id": "5df3b480-b2ee-40c1-a8e4-40e1466a7ef2",
   "metadata": {},
   "source": [
    "Test Case 1:\n",
    "Input: num = 3749\n",
    "Output: \"MMMDCCXLIX\"\n",
    "Explanation:\n",
    "3000 = MMM as 1000 (M) + 1000 (M) + 1000 (M)\n",
    "700 = DCC as 500 (D) + 100 (C) + 100 (C)\n",
    " 40 = XL as 10 (X) less of 50 (L)\n",
    " 9 = IX as 1 (I) less of 10 (X)\n",
    "Note: 49 is not 1 (I) less of 50 (L) because the conversion is based on decimal places\n",
    "Test Case 2:\n",
    "Input: num = 58\n",
    "Output: \"LVIII\"\n",
    "Explanation:\n",
    "50 = L\n",
    "8 = VIII\n",
    "Test Case 3:\n",
    "Input: num = 1994\n",
    "Output: \"MCMXCIV\"\n",
    "Explanation:\n",
    "1000 = M\n",
    "900 = CM\n",
    " 90 = XC\n",
    " 4 = IV\n",
    "Constraints:\n",
    "1 <= num <= 3999"
   ]
  },
  {
   "cell_type": "code",
   "execution_count": 39,
   "id": "6e602699-5b57-45cc-abbe-ced2d9914aeb",
   "metadata": {},
   "outputs": [
    {
     "name": "stdout",
     "output_type": "stream",
     "text": [
      "MMMDCCXLIX\n"
     ]
    }
   ],
   "source": [
    "def int_to_roman(num):\n",
    "    # Define a mapping of decimal numbers to Roman numerals\n",
    "    val = [\n",
    "        (1000, 'M'), (900, 'CM'), (500, 'D'), (400, 'CD'),\n",
    "        (100, 'C'), (90, 'XC'), (50, 'L'), (40, 'XL'),\n",
    "        (10, 'X'), (9, 'IX'), (5, 'V'), (4, 'IV'),\n",
    "        (1, 'I')\n",
    "    ]\n",
    "\n",
    "    roman_numeral = \"\"  # Store the final Roman numeral\n",
    "\n",
    "    # Loop through each value in the mapping\n",
    "    for value, symbol in val:\n",
    "        while num >= value:\n",
    "            roman_numeral += symbol  # Append symbol to result\n",
    "            num -= value  # Subtract value from number\n",
    "    return roman_numeral\n",
    "    \n",
    "num = 3749\n",
    "print(int_to_roman(num))"
   ]
  },
  {
   "cell_type": "code",
   "execution_count": 55,
   "id": "b45e78aa-5db9-413d-bb09-983a04a238a2",
   "metadata": {},
   "outputs": [
    {
     "name": "stdout",
     "output_type": "stream",
     "text": [
      "MMMDCCXLIX\n"
     ]
    }
   ],
   "source": [
    "def roman(num):\n",
    "    \n",
    "    rom_value=[\n",
    "        (1000, \"M\"), (900, \"CM\"), (500, \"D\"), (400, \"CD\"),\n",
    "        (100, \"C\"), (90, \"XC\"), (50, \"L\"), (40, \"XL\"),\n",
    "        (10, \"X\"), (9, \"IX\"), (5, \"V\"), (4, \"IV\"),\n",
    "        (1, \"I\")\n",
    "    ]\n",
    "\n",
    "    rom=\"\"\n",
    "    for value, symbol in rom_value:\n",
    "        while num>=value:\n",
    "            rom+=symbol\n",
    "            num=num-value\n",
    "    return rom\n",
    "    \n",
    "num = 3749\n",
    "print(roman(num))"
   ]
  },
  {
   "cell_type": "raw",
   "id": "bbd2aeff-9400-4fac-88a1-28e1e9b2d40b",
   "metadata": {},
   "source": [
    "Problem 6: Roman numerals are represented by seven different symbols: I, V, X, L, C, D and M.\n",
    "Symbol Value\n",
    "I 1\n",
    "V 5\n",
    "X 10\n",
    "L 50\n",
    "C 100\n",
    "D 500\n",
    "M 1000\n",
    "For example, 2 is written as II in Roman numeral, just two ones added together. 12 is written as XII,\n",
    "which is simply X + II. The number 27 is written as XXVII, which is XX + V + II.\n",
    "Roman numerals are usually written largest to smallest from left to right. However, the numeral for\n",
    "four is not IIII. Instead, the number four is written as IV. Because the one is before the five we\n",
    "subtract it making four. The same principle applies to the number nine, which is written as IX. There\n",
    "are six instances where subtraction is used:\n",
    "● I can be placed before V (5) and X (10) to make 4 and 9.\n",
    "● X can be placed before L (50) and C (100) to make 40 and 90. C can be placed before D\n",
    "(500) and M (1000) to make 400 and 900.\n",
    "Given a roman numeral, convert it to an integer.\n",
    "Test Case 1:\n",
    "Input: s = \"III\"\n",
    "Output: 3\n",
    "Explanation: III = 3.\n",
    "Test Case 2:\n",
    "Input: s = \"LVIII\"\n",
    "Output: 58\n"
   ]
  },
  {
   "cell_type": "code",
   "execution_count": 101,
   "id": "b6580799-f228-4939-9277-ad9bd13cb958",
   "metadata": {},
   "outputs": [
    {
     "name": "stdout",
     "output_type": "stream",
     "text": [
      "1994\n"
     ]
    }
   ],
   "source": [
    "def roman(sym):\n",
    "    \n",
    "    rom_value={\n",
    "        \"I\": 1, \"IV\": 4, \"V\": 5, \"IX\": 9, \"X\": 10,\n",
    "        \"XL\": 40, \"L\": 50, \"XC\": 90, \"C\": 100,\n",
    "        \"CD\": 400, \"D\": 500, \"CM\": 900, \"M\": 1000\n",
    "    }\n",
    "\n",
    "    n=0\n",
    "    i=0\n",
    "    while i<len(sym):\n",
    "        if i + 1 < len(sym) and sym[i:i+2] in rom_value:\n",
    "            n += rom_value[sym[i:i+2]]\n",
    "            i += 2  # Move ahead by 2 places\n",
    "        else:\n",
    "            n += rom_value[sym[i]]\n",
    "            i += 1  # Move ahead by 1 place\n",
    "\n",
    "    return n\n",
    "    \n",
    "sym = \"MCMXCIV\"\n",
    "print(roman(sym))"
   ]
  },
  {
   "cell_type": "raw",
   "id": "1849358a-7aa2-4655-a983-127799593d4d",
   "metadata": {},
   "source": [
    "Problem 7: You are given an n x n 2D matrix representing an image, rotate the image by 90 degrees\n",
    "(clockwise).\n",
    "You have to rotate the image in-place, which means you have to modify the input 2D matrix\n",
    "directly.DO NOT allocate another 2D matrix and do the rotation.\n",
    "Example 1:\n",
    "Input: matrix = [[1,2,3],[4,5,6],[7,8,9]]\n",
    "Output: [[7,4,1],[8,5,2],[9,6,3]]"
   ]
  },
  {
   "cell_type": "code",
   "execution_count": 110,
   "id": "1a8774e7-cb19-4abc-8cb7-a0e23d91c3fa",
   "metadata": {},
   "outputs": [
    {
     "name": "stdout",
     "output_type": "stream",
     "text": [
      "[[7, 4, 1], [8, 5, 2], [9, 6, 3]]\n"
     ]
    }
   ],
   "source": [
    "m=[[1,2,3],[4,5,6],[7,8,9]]\n",
    "l=len(matrix)\n",
    "for i in range(l):\n",
    "    for j in range(i+1,l):\n",
    "        m[i][j], m[j][i]=m[j][i], m[i][j]\n",
    "           \n",
    "for row in m:\n",
    "        row.reverse()\n",
    "\n",
    "print(m)"
   ]
  },
  {
   "cell_type": "code",
   "execution_count": null,
   "id": "25f58207-6e1e-46ce-a16f-94da3729da94",
   "metadata": {},
   "outputs": [],
   "source": []
  }
 ],
 "metadata": {
  "kernelspec": {
   "display_name": "Python 3 (ipykernel)",
   "language": "python",
   "name": "python3"
  },
  "language_info": {
   "codemirror_mode": {
    "name": "ipython",
    "version": 3
   },
   "file_extension": ".py",
   "mimetype": "text/x-python",
   "name": "python",
   "nbconvert_exporter": "python",
   "pygments_lexer": "ipython3",
   "version": "3.11.7"
  }
 },
 "nbformat": 4,
 "nbformat_minor": 5
}

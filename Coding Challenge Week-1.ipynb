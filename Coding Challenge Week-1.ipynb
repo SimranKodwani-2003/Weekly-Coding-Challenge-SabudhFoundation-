{
 "cells": [
  {
   "cell_type": "markdown",
   "id": "48580a3e-4c8b-44f8-961d-9b87b492c8c3",
   "metadata": {},
   "source": [
    "## Problem-1"
   ]
  },
  {
   "cell_type": "code",
   "execution_count": 1,
   "id": "7668549a-c59b-40ad-8633-3f5f9ca796ac",
   "metadata": {},
   "outputs": [
    {
     "name": "stdin",
     "output_type": "stream",
     "text": [
      "Provide Number: 5\n"
     ]
    },
    {
     "name": "stdout",
     "output_type": "stream",
     "text": [
      "[0, 1, 4, 9, 16]\n"
     ]
    }
   ],
   "source": [
    "n=int(input(\"Provide Number:\"))\n",
    "l=[]\n",
    "for i in range(n):\n",
    "    if i<n:\n",
    "        l.append(i**2)\n",
    "    else:\n",
    "        break\n",
    "print(l)"
   ]
  },
  {
   "cell_type": "code",
   "execution_count": 10,
   "id": "2d810d60-4a0b-449e-9976-9d89019f3f0b",
   "metadata": {},
   "outputs": [
    {
     "name": "stdout",
     "output_type": "stream",
     "text": [
      "[0, 1, 4, 9, 16]\n"
     ]
    }
   ],
   "source": [
    "n=5\n",
    "l=[]\n",
    "for i in range(n):\n",
    "    if i<n:\n",
    "        l.append(i**2)\n",
    "    else:\n",
    "        break\n",
    "print(l)"
   ]
  },
  {
   "cell_type": "markdown",
   "id": "4b65399b-f7e2-46b6-a70e-9ad14178c7ce",
   "metadata": {},
   "source": [
    "## Problem-2"
   ]
  },
  {
   "cell_type": "code",
   "execution_count": 11,
   "id": "e9ccc97e-3c73-45a4-9330-704634d01fed",
   "metadata": {},
   "outputs": [
    {
     "name": "stdout",
     "output_type": "stream",
     "text": [
      "defgh\n"
     ]
    }
   ],
   "source": [
    "s = \"ddeefggh\"\n",
    "set_s = set(s)\n",
    "# str=str(set_s)\n",
    "for word in set_s:\n",
    "    x=\"\".join(sorted(set_s))\n",
    "print(x)"
   ]
  },
  {
   "cell_type": "markdown",
   "id": "f2f70a29-eb51-471c-9ac7-65910eae559e",
   "metadata": {},
   "source": [
    "## Problem-3"
   ]
  },
  {
   "cell_type": "code",
   "execution_count": 8,
   "id": "ee33168e-8e16-480a-a54c-45cd24360eca",
   "metadata": {},
   "outputs": [
    {
     "name": "stdin",
     "output_type": "stream",
     "text": [
      "enter no. 4\n",
      "enter value: 14\n",
      "enter value: 85\n",
      "enter value: 625\n"
     ]
    },
    {
     "name": "stdout",
     "output_type": "stream",
     "text": [
      "[85]\n"
     ]
    }
   ],
   "source": [
    "l = []\n",
    "n = int(input(\"enter no.\"))\n",
    "for i in range(n):\n",
    "    val = int(input(\"enter value:\"))\n",
    "    if val > 500:\n",
    "        break\n",
    "    if val>150:\n",
    "        continue\n",
    "    if val%5==0:\n",
    "        l.append(val)\n",
    "print(l)"
   ]
  },
  {
   "cell_type": "code",
   "execution_count": 5,
   "id": "963959a2-604d-4480-9a9f-da3dbec0be53",
   "metadata": {},
   "outputs": [
    {
     "name": "stdout",
     "output_type": "stream",
     "text": [
      "[85]\n"
     ]
    }
   ],
   "source": [
    "k = [14, 85, 625, 75]\n",
    "l=[]\n",
    "for i in k:\n",
    "    if i > 500:\n",
    "        break\n",
    "    if i> 150:\n",
    "        continue\n",
    "    if i % 5 == 0:\n",
    "        l.append(i)\n",
    "print(l)"
   ]
  },
  {
   "cell_type": "markdown",
   "id": "db8d3ea8-6b98-43ef-b7b7-210d55dfed5c",
   "metadata": {},
   "source": [
    " ## Problem-4"
   ]
  },
  {
   "cell_type": "code",
   "execution_count": 9,
   "id": "847332c5-23f1-4ccb-9ac6-3b1ec1e8753a",
   "metadata": {},
   "outputs": [
    {
     "name": "stdout",
     "output_type": "stream",
     "text": [
      "3\n"
     ]
    }
   ],
   "source": [
    "# n=78569\n",
    "n= 654\n",
    "count=0\n",
    "while n!=0:\n",
    "    n=n//10\n",
    "    count=count+1\n",
    "print(count)"
   ]
  },
  {
   "cell_type": "markdown",
   "id": "7f2be7fb-c25e-4186-82f3-00d96cdf8665",
   "metadata": {},
   "source": [
    "## Problem-5"
   ]
  },
  {
   "cell_type": "code",
   "execution_count": 41,
   "id": "68170b11-1b04-430d-bc99-de6e9c04da95",
   "metadata": {},
   "outputs": [
    {
     "name": "stdin",
     "output_type": "stream",
     "text": [
      "Enter number: 6\n"
     ]
    },
    {
     "name": "stdout",
     "output_type": "stream",
     "text": [
      "246912\n"
     ]
    }
   ],
   "source": [
    "n= int(input(\"Enter number:\"))\n",
    "i=\"2\"\n",
    "sum=0\n",
    "for k in range(1,n+1):\n",
    "    r=int(i*k)\n",
    "    sum=sum+r\n",
    "print(sum)"
   ]
  },
  {
   "cell_type": "markdown",
   "id": "78ee1295-91b8-4229-93e9-f04083afd6c8",
   "metadata": {},
   "source": [
    "## Problem-6"
   ]
  },
  {
   "cell_type": "code",
   "execution_count": 5,
   "id": "b98c8609-b720-4730-b3a6-dd6258b08f95",
   "metadata": {},
   "outputs": [
    {
     "name": "stdin",
     "output_type": "stream",
     "text": [
      " 745633\n"
     ]
    },
    {
     "name": "stdout",
     "output_type": "stream",
     "text": [
      "336547\n"
     ]
    }
   ],
   "source": [
    "n=int(input())\n",
    "rev=0\n",
    "while n>0:\n",
    "    k=n%10\n",
    "    rev=rev*10+k\n",
    "    n=n//10\n",
    "print(rev)"
   ]
  },
  {
   "cell_type": "markdown",
   "id": "b6cae6bc-13aa-46b3-a86b-43e7badc25f8",
   "metadata": {},
   "source": [
    "## Problem-7"
   ]
  },
  {
   "cell_type": "code",
   "execution_count": 9,
   "id": "7b958885-3603-435b-a757-d0922b8c039d",
   "metadata": {},
   "outputs": [
    {
     "name": "stdout",
     "output_type": "stream",
     "text": [
      "[46, 92]\n"
     ]
    }
   ],
   "source": [
    "l=[23, 46, 69, 92, 115]\n",
    "k=[]\n",
    "for index,value in enumerate(l):\n",
    "    if index%2!=0:\n",
    "       k.append(value)\n",
    "print(k)"
   ]
  },
  {
   "cell_type": "markdown",
   "id": "12b0b1b3-d7d1-4949-9fa9-e96bad72749e",
   "metadata": {},
   "source": [
    "## Problem-8"
   ]
  },
  {
   "cell_type": "code",
   "execution_count": 9,
   "id": "0ab4c788-abc8-4e41-9c3b-4bd18c4b6922",
   "metadata": {},
   "outputs": [
    {
     "name": "stdin",
     "output_type": "stream",
     "text": [
      "enter Input 15\n",
      "enter Input 26\n",
      "enter Input 29\n"
     ]
    },
    {
     "name": "stdout",
     "output_type": "stream",
     "text": [
      "Median is: 26\n"
     ]
    }
   ],
   "source": [
    "n=3\n",
    "l=[]\n",
    "for i in range(n):\n",
    "    n1=int(input(\"enter Input\"))\n",
    "    l.append(n1)\n",
    "# print(l)\n",
    "# for index,value in enumerate(l):\n",
    "#     s=sorted(l)\n",
    "    length=len(l)\n",
    "# print(length)\n",
    "if length % 2 != 0:\n",
    "    median = l[length // 2]\n",
    "else:\n",
    "    median = (l[length // 2 - 1] + l[length // 2]) / 2\n",
    "\n",
    "print(\"Median is:\", median)"
   ]
  },
  {
   "cell_type": "code",
   "execution_count": null,
   "id": "5f6b1f32-705a-43fe-ad1d-2cc7e0f4c5d8",
   "metadata": {},
   "outputs": [],
   "source": []
  }
 ],
 "metadata": {
  "kernelspec": {
   "display_name": "Python 3 (ipykernel)",
   "language": "python",
   "name": "python3"
  },
  "language_info": {
   "codemirror_mode": {
    "name": "ipython",
    "version": 3
   },
   "file_extension": ".py",
   "mimetype": "text/x-python",
   "name": "python",
   "nbconvert_exporter": "python",
   "pygments_lexer": "ipython3",
   "version": "3.11.7"
  }
 },
 "nbformat": 4,
 "nbformat_minor": 5
}

{
  "nbformat": 4,
  "nbformat_minor": 0,
  "metadata": {
    "colab": {
      "provenance": [],
      "authorship_tag": "ABX9TyOaWsBAIbvqsp8Rlg8KZNiT",
      "include_colab_link": true
    },
    "kernelspec": {
      "name": "python3",
      "display_name": "Python 3"
    },
    "language_info": {
      "name": "python"
    }
  },
  "cells": [
    {
      "cell_type": "markdown",
      "metadata": {
        "id": "view-in-github",
        "colab_type": "text"
      },
      "source": [
        "<a href=\"https://colab.research.google.com/github/SimranKodwani-2003/Weekly-Coding-Challenge-SabudhFoundation-/blob/main/weekly_code_8.ipynb\" target=\"_parent\"><img src=\"https://colab.research.google.com/assets/colab-badge.svg\" alt=\"Open In Colab\"/></a>"
      ]
    },
    {
      "cell_type": "markdown",
      "source": [
        "Q1.You are given the head of a linked list. Remove every node which has a node\n",
        "with a greater value anywhere to the right side of it. Return the head of the\n",
        "modified linked list. <br>\n",
        "Example 1: <br>\n",
        "Input: head = [5,2,13,3,8] <br>\n",
        "Output: [13,8] <br>\n",
        "Explanation: The nodes that should be removed are 5, 2 and 3. <br>\n",
        "● Node 13 is to the right of node 5. <br>\n",
        "● Node 13 is to the right of node 2. <br>\n",
        "● Node 8 is to the right of node 3. <br>\n",
        "Example 2: <br>\n",
        "Input: head = [1,1,1,1]  <br>\n",
        "Output: [1,1,1,1] <br>\n",
        "Explanation: Every node has value 1, so no nodes are removed. <br>\n",
        "Constraints: <br>\n",
        "● The number of the nodes in the given list is in the range [1, 105]. <br>\n",
        "● 1 <= Node.val <= 105 <br>"
      ],
      "metadata": {
        "id": "jIDZR5jf3i7r"
      }
    },
    {
      "cell_type": "code",
      "execution_count": null,
      "metadata": {
        "colab": {
          "base_uri": "https://localhost:8080/"
        },
        "id": "9XFN-aAe2ZaY",
        "outputId": "aa90eed7-356c-4333-defd-1eb98927d1b9"
      },
      "outputs": [
        {
          "output_type": "execute_result",
          "data": {
            "text/plain": [
              "[1, 1, 1, 1]"
            ]
          },
          "metadata": {},
          "execution_count": 20
        }
      ],
      "source": [
        "#Input: head = [5,2,13,3,8]\n",
        "#Output: [13,8]\n",
        "\n",
        "def link_modification(head):\n",
        "  res=[]\n",
        "  max_val=0\n",
        "  for val in reversed(head):\n",
        "    if val>=max_val:\n",
        "      res.append(val)\n",
        "      max_val=val\n",
        "  return res[::-1]\n",
        "\n",
        "# head = [5,2,13,3,8]\n",
        "head = [1,1,1,1]\n",
        "link_modification(head)"
      ]
    },
    {
      "cell_type": "markdown",
      "source": [
        "Q2.You are given an absolute path for a Unix-style file system, which always\n",
        "begins with a slash '/'. Your task is to transform this absolute path into its\n",
        "simplified canonical path. <br>\n",
        "The rules of a Unix-style file system are as follows: <br>\n",
        "● A single period '.' represents the current directory. <br>\n",
        "● A double period ' .' represents the previous/parent directory. <br>\n",
        "● Multiple consecutive slashes such as '//' and '///' are treated as a single\n",
        "slash '/'. <br>\n",
        "● Any sequence of periods that does not match the rules above should\n",
        "be treated as a valid directory or file name. For example, ' .' and '\n",
        "'\n",
        "are valid directory or file names. <br><br>\n",
        "The simplified canonical path should follow these rules: <br>\n",
        "● The path must start with a single slash '/'. <br>\n",
        "● Directories within the path must be separated by exactly one slash '/'. <br>\n",
        "● The path must not end with a slash '/', unless it is the root directory. <br>\n",
        "● The path must not have any single or double periods ('.' and ' .') used to\n",
        "denote current or parent directories. <br>\n",
        "Return the simplified canonical path. <br>\n",
        "Example 1: <br>\n",
        "Input: path = \"/home/\" <br>\n",
        "Output: \"/home\" <br>\n",
        "Explanation: <br>\n",
        "The trailing slash should be removed. <br>\n",
        "Example 2: <br>\n",
        "Input: path = \"/home//foo/\"  <br>\n",
        "Output: \"/home/foo\"  <br>\n",
        "Explanation: <br>\n",
        "Multiple consecutive slashes are replaced by a single one. <br>\n",
        "Example 3: <br>\n",
        "Input: path = \"/home/user/Documents/./Pictures\"  <br>\n",
        "Output: \"/home/user/Pictures\" <br>\n",
        "Explanation: <br>\n",
        "A double period \".\" refers to the directory up a level (the parent directory).<br>\n",
        "Example 4: <br>\n",
        "Input: path = \"/./\" <br>\n",
        "Output: \"/\"  <br>\n",
        "Explanation: <br>\n",
        "Going one level up from the root directory is not possible.<br>\n",
        "\n"
      ],
      "metadata": {
        "id": "XHknK-NMHucK"
      }
    },
    {
      "cell_type": "code",
      "source": [
        "def simplified_way(path):\n",
        "    dir_name = []  # Use as a stack\n",
        "    parts = path.split(\"/\")\n",
        "\n",
        "    for part in parts:\n",
        "        if part == \"\" or part == \".\":\n",
        "            # Skip empty strings and current directory\n",
        "            continue\n",
        "        elif part == \"..\":\n",
        "            # Go one directory up, if possible\n",
        "            if dir_name:\n",
        "                dir_name.pop()\n",
        "        else:\n",
        "            # It's a valid folder name (e.g., \" .\", \"...\", \"folder\")\n",
        "            dir_name.append(part)\n",
        "\n",
        "    # Join stack to make final path\n",
        "    return \"/\" + \"/\".join(dir_name)\n"
      ],
      "metadata": {
        "id": "yZGEFba6DSgi"
      },
      "execution_count": null,
      "outputs": []
    },
    {
      "cell_type": "markdown",
      "source": [
        "Q 3. You are given an integer array nums. You are initially positioned at the\n",
        "array's first index, and each element in the array represents your maximum\n",
        "jump length at that position. Return true if you can reach the last index, or\n",
        "false otherwise. <br>\n",
        "Example 1: <br>\n",
        "Input: nums = [2,3,1,1,4] <br>\n",
        "Output: true <br>\n",
        "Explanation: Jump 1 step from index 0 to 1, then 3 steps to the last index. <br>\n",
        "Example 2: <br>\n",
        "Input: nums = [3,2,1,0,4] <br>\n",
        "Output: false <br>\n"
      ],
      "metadata": {
        "id": "kacYuDhiAZ2W"
      }
    },
    {
      "cell_type": "code",
      "source": [
        "def can_jump(nums):\n",
        "    max_reach = 0\n",
        "    for i in nums:\n",
        "        if i > max_reach:\n",
        "            return False  # You can't reach this index\n",
        "        max_reach = max(max_reach, i + nums[i])\n",
        "    return True  # You can reach or pass the last index\n",
        "\n",
        "nums = [3,2,1,0,4]\n",
        "can_jump(nums)"
      ],
      "metadata": {
        "id": "Hpm-mpBeJnsh",
        "colab": {
          "base_uri": "https://localhost:8080/"
        },
        "outputId": "d9925ebf-5a56-4285-b743-696827f852bf"
      },
      "execution_count": null,
      "outputs": [
        {
          "output_type": "execute_result",
          "data": {
            "text/plain": [
              "False"
            ]
          },
          "metadata": {},
          "execution_count": 4
        }
      ]
    },
    {
      "cell_type": "markdown",
      "source": [
        "Q4, Given an array of intervals where intervals[i] = [starti, endi], merge all\n",
        "overlapping intervals, and return an array of the non-overlapping intervals\n",
        "that cover all the intervals in the input."
      ],
      "metadata": {
        "id": "6KGpq8BNYjOs"
      }
    },
    {
      "cell_type": "markdown",
      "source": [
        "Input: intervals = [[1,3],[2,6],[8,10],[15,18]] <br>\n",
        "Output: [[1,6],[8,10],[15,18]] <br>\n",
        "Explanation: Since intervals [1,3] and [2,6] overlap, merge them into [1,6]."
      ],
      "metadata": {
        "id": "UAhbms-xYnjX"
      }
    },
    {
      "cell_type": "code",
      "source": [
        "def merge_intervals(intervals):\n",
        "    # Step 1: Sort intervals by start time\n",
        "    intervals.sort(key=lambda x: x[0])\n",
        "\n",
        "    merged = []\n",
        "\n",
        "    for interval in intervals:\n",
        "        # If merged is empty or no overlap\n",
        "        if not merged or merged[-1][1] < interval[0]:\n",
        "            merged.append(interval)\n",
        "        else:\n",
        "            # Merge intervals\n",
        "            merged[-1][1] = max(merged[-1][1], interval[1])\n",
        "\n",
        "    return merged\n",
        "intervals = [[1,3],[2,6],[8,10],[15,18]]\n",
        "merge_intervals(intervals)"
      ],
      "metadata": {
        "colab": {
          "base_uri": "https://localhost:8080/"
        },
        "id": "D03MjLmRYkcA",
        "outputId": "1f9878f8-d13f-420f-d56d-6bf73e640f6f"
      },
      "execution_count": null,
      "outputs": [
        {
          "output_type": "execute_result",
          "data": {
            "text/plain": [
              "[[1, 6], [8, 10], [15, 18]]"
            ]
          },
          "metadata": {},
          "execution_count": 10
        }
      ]
    },
    {
      "cell_type": "markdown",
      "source": [
        "Q 5.You are given an array of non-overlapping intervals intervals where\n",
        "intervals[i] = [starti, endi] represent the start and the end of the ith interval\n",
        "and intervals is sorted in ascending order by starti. You are also given an\n",
        "interval newInterval = [start, end] that represents the start and end of\n",
        "another interval. <br>\n",
        "Insert newInterval into intervals such that intervals are still sorted in\n",
        "ascending order by starti and intervals still do not have any overlapping\n",
        "intervals (merge overlapping intervals if necessary). Return intervals after the\n",
        "insertion. <br>\n",
        "Note that you don't need to modify intervals in-place. You can make a new\n",
        "array and return it. <br>\n",
        "Example 1: <br>\n",
        "Input: intervals = [[1,3],[6,9]], newInterval = [2,5]  <br>\n",
        "Output: [[1,5],[6,9]]<br>"
      ],
      "metadata": {
        "id": "46QZISK45NDU"
      }
    },
    {
      "cell_type": "code",
      "source": [
        "def insert(intervals, newInterval):\n",
        "    result = []\n",
        "    i = 0\n",
        "    n = len(intervals)\n",
        "\n",
        "    # Step 1: Add intervals that come before newInterval\n",
        "    while i < n and intervals[i][1] < newInterval[0]:\n",
        "        result.append(intervals[i])\n",
        "        i += 1\n",
        "\n",
        "    # Step 2: Merge overlapping intervals with newInterval\n",
        "    while i < n and intervals[i][0] <= newInterval[1]:\n",
        "        newInterval[0] = min(newInterval[0], intervals[i][0])\n",
        "        newInterval[1] = max(newInterval[1], intervals[i][1])\n",
        "        i += 1\n",
        "    result.append(newInterval)\n",
        "\n",
        "    # Step 3: Add remaining intervals\n",
        "    while i < n:\n",
        "        result.append(intervals[i])\n",
        "        i += 1\n",
        "\n",
        "    return result\n"
      ],
      "metadata": {
        "id": "nPn75Ldh5Gtl"
      },
      "execution_count": null,
      "outputs": []
    }
  ]
}